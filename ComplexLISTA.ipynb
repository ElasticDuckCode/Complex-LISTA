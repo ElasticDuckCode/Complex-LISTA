{
  "nbformat": 4,
  "nbformat_minor": 5,
  "metadata": {
    "accelerator": "GPU",
    "colab": {
      "name": "ComplexLISTA.ipynb",
      "provenance": []
    },
    "kernelspec": {
      "name": "python3",
      "display_name": "Python 3"
    },
    "language_info": {
      "name": "python"
    }
  },
  "cells": [
    {
      "cell_type": "code",
      "metadata": {
        "id": "4657fdda-780b-41a6-89bc-23a7b3e896e2"
      },
      "source": [
        "from IPython.display import clear_output"
      ],
      "id": "4657fdda-780b-41a6-89bc-23a7b3e896e2",
      "execution_count": 37,
      "outputs": []
    },
    {
      "cell_type": "code",
      "metadata": {
        "id": "c4f57438-6d0e-4c21-8d0a-7a13203fd6e9"
      },
      "source": [
        "import time\n",
        "import importlib\n",
        "import numpy as np\n",
        "from torch.utils.data import Dataset, DataLoader\n",
        "from matplotlib import pyplot as plt\n",
        "from scipy.linalg import norm, pinv, toeplitz\n",
        "from scipy import fft\n",
        "from tqdm import tqdm, trange"
      ],
      "id": "c4f57438-6d0e-4c21-8d0a-7a13203fd6e9",
      "execution_count": 38,
      "outputs": []
    },
    {
      "cell_type": "code",
      "metadata": {
        "colab": {
          "base_uri": "https://localhost:8080/"
        },
        "id": "041d5853-5e92-4af4-86b8-c01a2d33509b",
        "outputId": "6156e0ec-6721-4f32-e0ab-0ff69f359cde"
      },
      "source": [
        "from numpy import pi, fft\n",
        "import torch\n",
        "from torch.nn.functional import relu, mse_loss, conv1d\n",
        "from torch.nn import Module, Parameter, ReLU\n",
        "\n",
        "device = torch.device('cuda')\n",
        "print(device)"
      ],
      "id": "041d5853-5e92-4af4-86b8-c01a2d33509b",
      "execution_count": 39,
      "outputs": [
        {
          "output_type": "stream",
          "text": [
            "cuda\n"
          ],
          "name": "stdout"
        }
      ]
    },
    {
      "cell_type": "code",
      "metadata": {
        "id": "84ee2045-a70e-4909-a66a-8a0afbde2167"
      },
      "source": [
        "class ComplexLISTA(Module):\n",
        "    \n",
        "    def __init__(self, M, N, maxit):\n",
        "        super(ComplexLISTA, self).__init__()\n",
        "    \n",
        "        # Real and imaginary Wg and We matricies \n",
        "        self.Wre = torch.nn.Parameter(torch.zeros([maxit+1, N, M]), requires_grad=True)\n",
        "        self.Wrg = torch.nn.Parameter(torch.zeros([maxit+1, N, N]), requires_grad=True)\n",
        "        self.Wie = torch.nn.Parameter(torch.zeros([maxit+1, N, M]), requires_grad=True)\n",
        "        self.Wig = torch.nn.Parameter(torch.zeros([maxit+1, N, N]), requires_grad=True)\n",
        "        \n",
        "        # alpha and lambda hyper-parameters to LASSO/ISTA\n",
        "        self.theta = torch.nn.Parameter(torch.ones(maxit+1), requires_grad=True)\n",
        "        \n",
        "        # Save the passed values\n",
        "        self.M = M\n",
        "        self.N = N\n",
        "        self.maxit = maxit\n",
        "        self.relu = ReLU()\n",
        "\n",
        "        return\n",
        "    \n",
        "    def forward(self, yr, yi, epsilon=1e-10):\n",
        "        \n",
        "        Wret = torch.transpose(self.Wre[0], 0, 1)\n",
        "        Wiet = torch.transpose(self.Wie[0], 0, 1)\n",
        "        Wrgt = torch.transpose(self.Wrg[0], 0, 1)\n",
        "        Wigt = torch.transpose(self.Wig[0], 0, 1)\n",
        "                \n",
        "        # Apply We branch to y to 0-th iteration\n",
        "        zr = torch.matmul(yr, Wret) - torch.matmul(yi, Wiet)\n",
        "        zi = torch.matmul(yi, Wret) + torch.matmul(yr, Wiet)\n",
        "        \n",
        "        # Apply soft-thresholding according to Eldar's paper.\n",
        "        xabs = torch.sqrt(torch.square(zr) + torch.square(zi) + epsilon)\n",
        "        xr = torch.divide(zr, xabs + epsilon) * self.relu(xabs - self.theta[0])\n",
        "        xi = torch.divide(zi, xabs + epsilon) * self.relu(xabs - self.theta[0])\n",
        "        \n",
        "        for t in range(1, self.maxit+1):\n",
        "            \n",
        "            Wret = torch.transpose(self.Wre[0], 0, 1)\n",
        "            Wiet = torch.transpose(self.Wie[0], 0, 1)\n",
        "            Wrgt = torch.transpose(self.Wrg[0], 0, 1)\n",
        "            Wigt = torch.transpose(self.Wig[0], 0, 1)\n",
        "        \n",
        "            # Apply We branch to y to t-th iteration\n",
        "            ar = torch.matmul(yr, Wret) - torch.matmul(yi, Wiet)\n",
        "            ai = torch.matmul(yi, Wret) + torch.matmul(yr, Wiet)\n",
        "            \n",
        "            # Apply Wg branch to x^(t) for t-th iteration\n",
        "            br = torch.matmul(xr, Wrgt) - torch.matmul(xi, Wigt)\n",
        "            bi = torch.matmul(xi, Wrgt) + torch.matmul(xr, Wigt)\n",
        "            \n",
        "            # Add the two branches                                                                           \n",
        "            zr = ar + br\n",
        "            zi = ai + bi\n",
        "            \n",
        "            # Apply soft-thresholding\n",
        "            xabs = torch.sqrt(torch.square(zr) + torch.square(zi) + epsilon)\n",
        "            xr = torch.divide(zr, xabs + epsilon) * self.relu(xabs - self.theta[t])\n",
        "            xi = torch.divide(zi, xabs + epsilon) * self.relu(xabs - self.theta[t])\n",
        "      \n",
        "        return xr, xi"
      ],
      "id": "84ee2045-a70e-4909-a66a-8a0afbde2167",
      "execution_count": 230,
      "outputs": []
    },
    {
      "cell_type": "code",
      "metadata": {
        "id": "AQ25zXsSKs7C"
      },
      "source": [
        "class ComplexLISTA_Toeplitz(Module):\n",
        "    \n",
        "    def __init__(self, M, N, maxit):\n",
        "        super(ComplexLISTA_Toeplitz, self).__init__()\n",
        "    \n",
        "        # Real and imaginary Wg and We matricies \n",
        "        self.Wre = Parameter(torch.zeros([maxit+1, N, M]), requires_grad=True)\n",
        "        self.Wie = Parameter(torch.zeros([maxit+1, N, M]), requires_grad=True)\n",
        "        self.hrg = Parameter(torch.zeros([maxit+1, 1, 1, N]), requires_grad=True) # dimension such that it works with conv1d\n",
        "        self.hig = Parameter(torch.zeros([maxit+1, 1, 1, N]), requires_grad=True)\n",
        "        \n",
        "        # alpha and lambda hyper-parameters to LASSO/ISTA\n",
        "        self.theta = Parameter(torch.ones(maxit+1), requires_grad=True)\n",
        "        \n",
        "        # Save the passed values\n",
        "        self.M = M\n",
        "        self.N = N\n",
        "        self.maxit = maxit\n",
        "        self.relu = ReLU()\n",
        "\n",
        "        return\n",
        "    \n",
        "    def forward(self, yr, yi, epsilon=1e-10):\n",
        "        \n",
        "        Wret = torch.transpose(self.Wre[0], 0, 1)\n",
        "        Wiet = torch.transpose(self.Wie[0], 0, 1)\n",
        "                \n",
        "        # Apply We branch to y to 0-th iteration\n",
        "        zr = torch.matmul(yr, Wret) - torch.matmul(yi, Wiet)\n",
        "        zi = torch.matmul(yi, Wret) + torch.matmul(yr, Wiet)\n",
        "        \n",
        "        # Apply soft-thresholding according to Eldar's paper.\n",
        "        xabs = torch.sqrt(torch.square(zr) + torch.square(zi) + epsilon)\n",
        "        xr = torch.divide(zr, xabs + epsilon) * self.relu(xabs - self.theta[0])\n",
        "        xi = torch.divide(zi, xabs + epsilon) * self.relu(xabs - self.theta[0])\n",
        "        \n",
        "        for t in range(1, self.maxit+1):\n",
        "\n",
        "            Wret = torch.transpose(self.Wre[t], 0, 1)\n",
        "            Wiet = torch.transpose(self.Wie[t], 0, 1)\n",
        "            hrgt = self.hrg[t]\n",
        "            higt = self.hig[t]\n",
        "        \n",
        "            # Apply We branch to y to t-th iteration\n",
        "            ar = torch.matmul(yr, Wret) - torch.matmul(yi, Wiet)\n",
        "            ai = torch.matmul(yi, Wret) + torch.matmul(yr, Wiet)\n",
        "            \n",
        "            # Apply hg conv1d branch to x^(t) for t-th iteration\n",
        "            br = conv1d(xr.unsqueeze(1), hrgt, padding='same') - conv1d(xi.unsqueeze(1), higt, padding='same')\n",
        "            bi = conv1d(xi.unsqueeze(1), hrgt, padding='same') + conv1d(xr.unsqueeze(1), higt, padding='same')\n",
        "            \n",
        "            # Add the two branches                                                                           \n",
        "            zr = ar + br.squeeze(1)\n",
        "            zi = ai + bi.squeeze(1)\n",
        "            \n",
        "            # Apply soft-thresholding\n",
        "            xabs = torch.sqrt(torch.square(zr) + torch.square(zi) + epsilon)\n",
        "            xr = torch.divide(zr, xabs + epsilon) * self.relu(xabs - self.theta[t])\n",
        "            xi = torch.divide(zi, xabs + epsilon) * self.relu(xabs - self.theta[t])\n",
        "      \n",
        "        return xr, xi"
      ],
      "id": "AQ25zXsSKs7C",
      "execution_count": 195,
      "outputs": []
    },
    {
      "cell_type": "code",
      "metadata": {
        "id": "7hsot2JuKzcy"
      },
      "source": [
        "class ComplexLISTA_Weights(Module):\n",
        "    \n",
        "    def __init__(self, M, N, maxit):\n",
        "        super(ComplexLISTA_Weights, self).__init__()\n",
        "    \n",
        "        # Real and imaginary Wg and We matricies \n",
        "        self.Wre = Parameter(torch.zeros([maxit+1, N, M]), requires_grad=True)\n",
        "        self.Wie = Parameter(torch.zeros([maxit+1, N, M]), requires_grad=True)\n",
        "        self.Wg = Parameter(torch.zeros([maxit+1, M]), requires_grad=True) # dimension such that it works with conv1d\n",
        "        \n",
        "        # alpha and lambda hyper-parameters to LASSO/ISTA\n",
        "        self.theta = Parameter(torch.ones(maxit+1), requires_grad=True)\n",
        "        \n",
        "        # Save the passed values\n",
        "        self.M = M\n",
        "        self.N = N\n",
        "        self.maxit = maxit\n",
        "\n",
        "        # Create useful relu layer\n",
        "        self.relu = ReLU()\n",
        "\n",
        "        # Assuming the measurement model\n",
        "        self.complex_exp = lambda x : np.exp(2j*pi*x)\n",
        "        self.fgrid = fft.fftfreq(N)\n",
        "        self.ula = np.arange(M)\n",
        "        self.arg = np.outer(self.ula, 2*pi*self.fgrid)\n",
        "\n",
        "        # Predefine useful matricies\n",
        "        self.C = torch.from_numpy(np.cos(self.arg)).to(torch.float32).unsqueeze(0).unsqueeze(0)\n",
        "        self.S = torch.from_numpy(np.sin(self.arg)).to(torch.float32).unsqueeze(0).unsqueeze(0)\n",
        "        self.C = Parameter(self.C, requires_grad=False)\n",
        "        self.S = Parameter(self.S, requires_grad=False)\n",
        "\n",
        "        return\n",
        "    \n",
        "    def forward(self, yr, yi, epsilon=1e-10):\n",
        "        \n",
        "        Wret = torch.transpose(self.Wre[0], 0, 1)\n",
        "        Wiet = torch.transpose(self.Wie[0], 0, 1)\n",
        "                \n",
        "        # Apply We branch to y to 0-th iteration\n",
        "        zr = torch.matmul(yr, Wret) - torch.matmul(yi, Wiet)\n",
        "        zi = torch.matmul(yi, Wret) + torch.matmul(yr, Wiet)\n",
        "        \n",
        "        # Apply soft-thresholding according to Eldar's paper.\n",
        "        xabs = torch.sqrt(torch.square(zr) + torch.square(zi) + epsilon)\n",
        "        xr = torch.divide(zr, xabs + epsilon) * self.relu(xabs - self.theta[0])\n",
        "        xi = torch.divide(zi, xabs + epsilon) * self.relu(xabs - self.theta[0])\n",
        "        \n",
        "        for t in range(1, self.maxit+1):\n",
        "\n",
        "            Wret = torch.transpose(self.Wre[t], 0, 1)\n",
        "            Wiet = torch.transpose(self.Wie[t], 0, 1)\n",
        "        \n",
        "            # Apply We branch to y to t-th iteration\n",
        "            ar = torch.matmul(yr, Wret) - torch.matmul(yi, Wiet)\n",
        "            ai = torch.matmul(yi, Wret) + torch.matmul(yr, Wiet)\n",
        "            \n",
        "            # Apply hg conv1d branch to x^(t) for t-th iteration\n",
        "            hrgt = torch.matmul(self.Wg[t], self.C)\n",
        "            higt = torch.matmul(self.Wg[t], self.S)\n",
        "\n",
        "            br = conv1d(xr.unsqueeze(1), hrgt, padding='same') - conv1d(xi.unsqueeze(1), higt, padding='same')\n",
        "            bi = conv1d(xi.unsqueeze(1), hrgt, padding='same') + conv1d(xr.unsqueeze(1), higt, padding='same')\n",
        "\n",
        "            # Add the two branches                                                                           \n",
        "            zr = ar + br.squeeze(1)\n",
        "            zi = ai + bi.squeeze(1)\n",
        "            \n",
        "            # Apply soft-thresholding\n",
        "            xabs = torch.sqrt(torch.square(zr) + torch.square(zi) + epsilon)\n",
        "            xr = torch.divide(zr, xabs + epsilon) * self.relu(xabs - self.theta[t])\n",
        "            xi = torch.divide(zi, xabs + epsilon) * self.relu(xabs - self.theta[t])\n",
        "      \n",
        "        return xr, xi"
      ],
      "id": "7hsot2JuKzcy",
      "execution_count": 250,
      "outputs": []
    },
    {
      "cell_type": "code",
      "metadata": {
        "id": "27e2df59-12ae-49fd-9ee9-af5df29300d5"
      },
      "source": [
        "class sparse_dataset(Dataset):\n",
        "    def __init__(self, N, K, Nexamples, sig=0.0, A=None):\n",
        "        self.X = np.zeros((Nexamples, N, 1))\n",
        "        for ii in range(Nexamples):\n",
        "            self.X[ii,...] = self.generate_sparse_vector(N, K)\n",
        "        #self.X *= np.random.randn(*self.X.shape)\n",
        "        self.X = torch.from_numpy(self.X).reshape(Nexamples, N)\n",
        "        self.Y = self.X @ A.T\n",
        "    \n",
        "    def __getitem__(self, i):\n",
        "        return (self.X[i, ...], self.Y[i, ...])\n",
        "    \n",
        "    def __len__(self, ):\n",
        "        return self.X.shape[0]\n",
        "    \n",
        "    def generate_sparse_vector(self, N, K):\n",
        "        x = np.zeros((N,1))\n",
        "        x[:K,...] = 1.\n",
        "        np.random.shuffle(x)\n",
        "        return x"
      ],
      "id": "27e2df59-12ae-49fd-9ee9-af5df29300d5",
      "execution_count": 251,
      "outputs": []
    },
    {
      "cell_type": "code",
      "metadata": {
        "id": "a37dbeb5-7183-4320-ac99-6ac6abc5f95a",
        "scrolled": true,
        "tags": []
      },
      "source": [
        "# Create training data\n",
        "maxit = 10\n",
        "M = 64\n",
        "N = 512\n",
        "sig = 0.4\n",
        "epochs = 10\n",
        "batchSize = 20\n",
        "testFreq = 1\n",
        "trainingPoints = 10_000\n",
        "testingPoints = 100\n",
        "sparsityLevel = 5\n",
        "\n",
        "# Create ULA and Nested Array Matricies\n",
        "N1 = M // 2\n",
        "N2 = M - N1\n",
        "\n",
        "inner = np.arange(N1)\n",
        "outer = np.arange(1, N2+1)*(N1 + 1) - 1\n",
        "\n",
        "uniform = np.arange(M).reshape(-1,1)\n",
        "nested = np.concatenate([inner, outer]).reshape(-1, 1)\n",
        "\n",
        "fgrid = fft.fftfreq(N).reshape(-1, 1)\n",
        "\n",
        "complex_exp = lambda x : np.exp(1j* 2*np.pi * x )\n",
        "A_u = complex_exp(uniform @ fgrid.T)\n",
        "A_n = complex_exp(nested @ fgrid.T)"
      ],
      "id": "a37dbeb5-7183-4320-ac99-6ac6abc5f95a",
      "execution_count": 252,
      "outputs": []
    },
    {
      "cell_type": "code",
      "metadata": {
        "id": "75113438-dfe2-4e79-8f05-0b236e8969b3"
      },
      "source": [
        "''' Or load'''\n",
        "dataset_training = torch.load(\"training_data.pt\")\n",
        "dataset_testing = torch.load(\"testing_data.pt\")\n",
        "dataloader_training = DataLoader(dataset_training, \n",
        "                                 batch_size = batchSize, shuffle=True)\n",
        "dataloader_testing = DataLoader(dataset_testing, \n",
        "                                 batch_size = testingPoints, shuffle=False)"
      ],
      "id": "75113438-dfe2-4e79-8f05-0b236e8969b3",
      "execution_count": 253,
      "outputs": []
    },
    {
      "cell_type": "code",
      "metadata": {
        "scrolled": true,
        "tags": [],
        "id": "26502555-68f0-45b9-839c-5baf8956dd2f"
      },
      "source": [
        "# dataset_training = sparse_dataset(N, sparsityLevel, trainingPoints, A=A_u)\n",
        "# dataloader_training = DataLoader(dataset_training, \n",
        "#                                  batch_size = batchSize, shuffle=True)\n",
        "# dataset_testing = sparse_dataset(N, sparsityLevel, testingPoints, A=A_u)\n",
        "# dataloader_testing = DataLoader(dataset_testing, \n",
        "#                                  batch_size = testingPoints, shuffle=False)\n",
        "# torch.save(dataset_training, \"training_data.pt\")\n",
        "# torch.save(dataset_testing, \"testing_data.pt\")"
      ],
      "id": "26502555-68f0-45b9-839c-5baf8956dd2f",
      "execution_count": 254,
      "outputs": []
    },
    {
      "cell_type": "code",
      "metadata": {
        "colab": {
          "base_uri": "https://localhost:8080/"
        },
        "id": "596150e5-6a33-4042-89c5-799485cd5850",
        "outputId": "ff8b7ec5-b845-4656-d274-251283509769"
      },
      "source": [
        "batches = int(trainingPoints/batchSize)\n",
        "#print(trainingPoints/batchSize)\n",
        "training_losslist = np.zeros(epochs * batches)\n",
        "testing_losslist = np.zeros(epochs * batches)\n",
        "\n",
        "model = ComplexLISTA_Weights(M, N, maxit)\n",
        "model.to(device)\n",
        "# for name, weights in model.named_parameters():\n",
        "#     print(name, weights)\n",
        "#print(model.state_dict())\n",
        "print(model.complex_exp)"
      ],
      "id": "596150e5-6a33-4042-89c5-799485cd5850",
      "execution_count": 255,
      "outputs": [
        {
          "output_type": "stream",
          "text": [
            "<function ComplexLISTA_Weights.__init__.<locals>.<lambda> at 0x7faef94b4e60>\n"
          ],
          "name": "stdout"
        }
      ]
    },
    {
      "cell_type": "code",
      "metadata": {
        "colab": {
          "base_uri": "https://localhost:8080/"
        },
        "id": "8a399404-ab10-4076-b234-6a62a1c46392",
        "outputId": "852efb01-aef0-492b-a861-bc4d7f225b5d"
      },
      "source": [
        "# Initialize Wg matrix according to Eldar\n",
        "X, Y = dataset_training[:100]\n",
        "print(X.shape, Y.shape)\n",
        "X = X.numpy().T\n",
        "Y = Y.numpy().T\n",
        "XHX = X.T.conj() @ X \n",
        "XHXinv = pinv(XHX)\n",
        "Phi = Y @ XHXinv @ X.T.conj() # conjugates omitted since X will be real\n",
        "PhiH = torch.from_numpy(Phi.conj().T)\n",
        "L = np.max(np.abs(np.linalg.eigvals(Phi.conj().T @ Phi)))\n",
        "\n",
        "#print(model.state_dict()['Wre'])\n",
        "with torch.no_grad():\n",
        "    for name, param in model.named_parameters():\n",
        "        if 'Wre' in name:\n",
        "            param.copy_(1/L * PhiH.real)\n",
        "        if 'Wie' in name:\n",
        "            param.copy_(1/L * PhiH.imag)\n",
        "        if 'Wg' in name: # for weighted lista\n",
        "            param.copy_(1/L * torch.ones(model.maxit+1, M))\n",
        "        if 'theta' in name:\n",
        "            param.copy_(0.01/L * torch.ones(model.maxit+1))\n",
        "\n",
        "print(model.state_dict()['Wre'][0])\n",
        "print(model.state_dict()['Wre'][-1])"
      ],
      "id": "8a399404-ab10-4076-b234-6a62a1c46392",
      "execution_count": 256,
      "outputs": [
        {
          "output_type": "stream",
          "text": [
            "torch.Size([100, 512]) torch.Size([100, 64])\n",
            "tensor([[ 0.0000e+00,  0.0000e+00,  0.0000e+00,  ...,  0.0000e+00,\n",
            "          0.0000e+00,  0.0000e+00],\n",
            "        [ 0.0000e+00,  0.0000e+00,  0.0000e+00,  ...,  0.0000e+00,\n",
            "          0.0000e+00,  0.0000e+00],\n",
            "        [ 4.2930e-03,  6.3253e-04,  2.1935e-03,  ...,  1.8961e-03,\n",
            "         -9.6310e-04, -2.0643e-04],\n",
            "        ...,\n",
            "        [ 0.0000e+00,  0.0000e+00,  0.0000e+00,  ...,  0.0000e+00,\n",
            "          0.0000e+00,  0.0000e+00],\n",
            "        [ 0.0000e+00,  0.0000e+00,  0.0000e+00,  ...,  0.0000e+00,\n",
            "          0.0000e+00,  0.0000e+00],\n",
            "        [-2.5667e-05, -9.5074e-05,  1.0472e-03,  ...,  2.3814e-03,\n",
            "          2.1650e-04, -4.2677e-04]], device='cuda:0')\n",
            "tensor([[ 0.0000e+00,  0.0000e+00,  0.0000e+00,  ...,  0.0000e+00,\n",
            "          0.0000e+00,  0.0000e+00],\n",
            "        [ 0.0000e+00,  0.0000e+00,  0.0000e+00,  ...,  0.0000e+00,\n",
            "          0.0000e+00,  0.0000e+00],\n",
            "        [ 4.2930e-03,  6.3253e-04,  2.1935e-03,  ...,  1.8961e-03,\n",
            "         -9.6310e-04, -2.0643e-04],\n",
            "        ...,\n",
            "        [ 0.0000e+00,  0.0000e+00,  0.0000e+00,  ...,  0.0000e+00,\n",
            "          0.0000e+00,  0.0000e+00],\n",
            "        [ 0.0000e+00,  0.0000e+00,  0.0000e+00,  ...,  0.0000e+00,\n",
            "          0.0000e+00,  0.0000e+00],\n",
            "        [-2.5667e-05, -9.5074e-05,  1.0472e-03,  ...,  2.3814e-03,\n",
            "          2.1650e-04, -4.2677e-04]], device='cuda:0')\n"
          ],
          "name": "stdout"
        }
      ]
    },
    {
      "cell_type": "code",
      "metadata": {
        "colab": {
          "base_uri": "https://localhost:8080/"
        },
        "id": "6efcd2d6-5443-46eb-9496-c365d6143d78",
        "outputId": "d71e174c-101b-487b-af11-f43b5078d655"
      },
      "source": [
        "optim = torch.optim.Adam(model.parameters(), lr=1e-4)\n",
        "obj = torch.nn.MSELoss()\n",
        "t = trange(epochs)\n",
        "#t = range(epochs)\n",
        "for e in t:\n",
        "    for i, data in enumerate(dataloader_training):\n",
        "\n",
        "        idx = e * batches + i\n",
        "        x, y = data\n",
        "        \n",
        "        # Split data to real and complex\n",
        "        xr = x.to(torch.float32).to(device)\n",
        "        xi = torch.zeros_like(xr).to(torch.float32).to(device)\n",
        "        \n",
        "        yr = y.real.to(torch.float32).to(device)\n",
        "        yi = y.imag.to(torch.float32).to(device)\n",
        "        \n",
        "        # Send through model\n",
        "        xpredr, xpredi = model(yr, yi)\n",
        "        \n",
        "        loss = obj(xpredr, xr) + obj(xpredi, xi)\n",
        "\n",
        "        with torch.no_grad():\n",
        "            training_losslist[idx] = loss\n",
        "\n",
        "        loss.backward()    \n",
        "        optim.step()\n",
        "        optim.zero_grad()\n",
        "        \n",
        "        if testFreq and idx % testFreq == 0:\n",
        "            for k, test_data in enumerate(dataloader_testing):\n",
        "                \n",
        "                x, y = test_data\n",
        "                \n",
        "                xr = x.to(torch.float32).to(device)\n",
        "                xi = torch.zeros_like(xr).to(torch.float32).to(device)\n",
        "                \n",
        "                yr = y.real.to(torch.float32).to(device)\n",
        "                yi = y.imag.to(torch.float32).to(device)\n",
        "                \n",
        "                xpredr, xpredi = model(yr, yi)\n",
        "                xpredr = xpredr.detach().cpu()\n",
        "                xpredi = xpredi.detach().cpu()\n",
        "\n",
        "                testing_losslist[idx] += torch.mean((xpredr.cpu() - xr.cpu())**2) + torch.mean((xpredi.cpu() - xi.cpu())**2)\n",
        "\n",
        "        t.set_description(\"Batch: {}/{}\\t Training Loss: {}\\t Validation Loss: {}\".format(i, len(dataloader_training), training_losslist[idx], testing_losslist[idx]), refresh=True)\n",
        "\n",
        "        #clear_output(wait=True)\n",
        "        #print(\"Epoch: {}\\t Batch: {}\\t Training Loss: {}\\t Validation Loss: {}\".format(e, i, training_losslist[idx], testing_losslist[idx]))\n",
        "\n",
        "        #print(\"Epoch: {}\\t Batch: {}\\t Training Loss: {}\\t\".format(e, i, training_losslist[idx]), end='\\r')"
      ],
      "id": "6efcd2d6-5443-46eb-9496-c365d6143d78",
      "execution_count": 257,
      "outputs": [
        {
          "output_type": "stream",
          "text": [
            "Batch: 499/500\t Training Loss: 0.008036364801228046\t Validation Loss: 0.008237844333052635: 100%|██████████| 10/10 [06:11<00:00, 37.16s/it]\n"
          ],
          "name": "stderr"
        }
      ]
    },
    {
      "cell_type": "code",
      "metadata": {
        "colab": {
          "base_uri": "https://localhost:8080/",
          "height": 282
        },
        "id": "17f3d02c-87d5-48db-93d9-b9f700d81b47",
        "outputId": "4febdb6d-570e-42e3-f06d-872990c0ca08"
      },
      "source": [
        "print(training_losslist[0])\n",
        "plt.semilogy(training_losslist[10:])\n",
        "plt.semilogy(testing_losslist[10:])\n",
        "torch.save(model.state_dict(), \"weights.pt\")"
      ],
      "id": "17f3d02c-87d5-48db-93d9-b9f700d81b47",
      "execution_count": 262,
      "outputs": [
        {
          "output_type": "stream",
          "text": [
            "50.088260650634766\n"
          ],
          "name": "stdout"
        },
        {
          "output_type": "display_data",
          "data": {
            "image/png": "[encoded data removed]",
            "text/plain": [
              "<Figure size 432x288 with 1 Axes>"
            ]
          },
          "metadata": {
            "needs_background": "light"
          }
        }
      ]
    },
    {
      "cell_type": "code",
      "metadata": {
        "id": "4eaafb91-8510-4f26-8241-7b37d6f2febc"
      },
      "source": [
        "''' or load the weights '''\n",
        "#model.load_state_dict(torch.load(\"model_weights.pt\", map_location=device))"
      ],
      "id": "4eaafb91-8510-4f26-8241-7b37d6f2febc",
      "execution_count": null,
      "outputs": []
    },
    {
      "cell_type": "code",
      "metadata": {
        "id": "cf067838-97c3-44d5-976e-7ab7bf006761"
      },
      "source": [
        "x_test, y_test = dataset_testing[2]\n",
        "\n",
        "yr = y_test.real.to(torch.float32).to(device)\n",
        "yi = y_test.imag.to(torch.float32).to(device)\n",
        "\n",
        "yr = yr.unsqueeze(0)\n",
        "yi = yi.unsqueeze(0)\n",
        "\n",
        "xpredr, xpredi = model(yr, yi)\n",
        "# xistar, xistai = model_ista(yr, yi)\n",
        "\n",
        "x_test = x_test.numpy()\n",
        "x_pred = np.zeros_like(x_test, dtype=complex)\n",
        "x_pred.real = xpredr.detach().cpu().numpy()\n",
        "x_pred.imag = xpredi.detach().cpu().numpy()\n",
        "\n",
        "# x_ista = np.zeros_like(x_test, dtype=complex)\n",
        "# x_ista.real = xistar.detach().numpy()\n",
        "# x_ista.imag = xistai.detach().numpy()\n",
        "\n",
        "S_test = np.abs(x_test)\n",
        "S_pred = np.abs(x_pred)\n",
        "# S_ista = np.abs(x_ista)\n",
        "\n",
        "S_test /= S_test.max()\n",
        "S_pred /= S_pred.max()\n",
        "# S_ista /= S_ista.max()"
      ],
      "id": "cf067838-97c3-44d5-976e-7ab7bf006761",
      "execution_count": 263,
      "outputs": []
    },
    {
      "cell_type": "code",
      "metadata": {
        "colab": {
          "base_uri": "https://localhost:8080/",
          "height": 483
        },
        "id": "5cbbbd16-0f57-4f1d-af7f-bec420ba9a73",
        "outputId": "8f85d722-bb56-425c-fac8-3abdcaac0100"
      },
      "source": [
        "# Plot ULA\n",
        "plt.rcParams.update({'font.size': 16})\n",
        "fig, ax = plt.subplots(figsize=(10, 6))\n",
        "\n",
        "ax.plot(fft.fftshift(fft.fftfreq(N)), fft.fftshift(S_pred), linewidth=2, label='LISTA')\n",
        "#ax.plot(fft.fftshift(fft.fftfreq(N)), fft.fftshift(S_ista), linewidth=2, label='ISTA')\n",
        "ax.stem(fft.fftshift(fft.fftfreq(N)), fft.fftshift(S_test), 'k', markerfmt='ko', linefmt='k--', label='True',  basefmt=\" \")\n",
        "y1, y2 = ax.get_ylim()\n",
        "#ax.vlines(fft.fftshift(fft.fftfreq(N)[np.nonzero(S_test)]), linestyle='--', ymin=0, ymax=y2, color='k', label='True')\n",
        "ax.set_ylim(0.001, y2)\n",
        "ax.set_xlabel('Frequency')\n",
        "ax.set_title('')\n",
        "ax.grid(color='#99AABB', linestyle=':')\n",
        "ax.set_facecolor('#CCDDEE')\n",
        "\n",
        "ax.legend()\n",
        "plt.tight_layout()\n",
        "plt.show()"
      ],
      "id": "5cbbbd16-0f57-4f1d-af7f-bec420ba9a73",
      "execution_count": 264,
      "outputs": [
        {
          "output_type": "stream",
          "text": [
            "/usr/local/lib/python3.7/dist-packages/ipykernel_launcher.py:7: UserWarning: In Matplotlib 3.3 individual lines on a stem plot will be added as a LineCollection instead of individual lines. This significantly improves the performance of a stem plot. To remove this warning and switch to the new behaviour, set the \"use_line_collection\" keyword argument to True.\n",
            "  import sys\n"
          ],
          "name": "stderr"
        },
        {
          "output_type": "display_data",
          "data": {
            "image/png": "[encoded data removed]",
            "text/plain": [
              "<Figure size 720x432 with 1 Axes>"
            ]
          },
          "metadata": {
            "needs_background": "light"
          }
        }
      ]
    },
    {
      "cell_type": "code",
      "metadata": {
        "id": "G6-YzUCTvHKZ",
        "colab": {
          "base_uri": "https://localhost:8080/"
        },
        "outputId": "435d31c4-391c-4d97-87b9-96c955f53738"
      },
      "source": [
        "abcd = torch.arange(N, dtype=torch.float32, requires_grad=True).unsqueeze(0).unsqueeze(0)\n",
        "efgh = torch.arange(M, dtype=torch.float32, requires_grad=True).unsqueeze(0).unsqueeze(0)\n",
        "\n",
        "ijkl = conv1d(abcd, efgh, padding='same')\n",
        "print(abcd.shape)\n",
        "print(efgh.shape)\n",
        "print(ijkl.shape)\n",
        "\n",
        "l = mse_loss(abcd, 2*ijkl)\n",
        "l.backward()\n",
        "\n",
        "print(l)"
      ],
      "id": "G6-YzUCTvHKZ",
      "execution_count": 131,
      "outputs": [
        {
          "output_type": "stream",
          "text": [
            "torch.Size([1, 1, 512])\n",
            "torch.Size([1, 1, 64])\n",
            "torch.Size([1, 1, 512])\n",
            "tensor(1.3426e+12, grad_fn=<MseLossBackward>)\n"
          ],
          "name": "stdout"
        }
      ]
    },
    {
      "cell_type": "code",
      "metadata": {
        "id": "mM6Z-abuOwO5"
      },
      "source": [
        ""
      ],
      "id": "mM6Z-abuOwO5",
      "execution_count": null,
      "outputs": []
    }
  ]
}