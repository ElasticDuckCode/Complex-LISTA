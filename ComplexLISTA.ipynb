{
  "nbformat": 4,
  "nbformat_minor": 5,
  "metadata": {
    "kernelspec": {
      "name": "python3",
      "display_name": "Python 3"
    },
    "colab": {
      "name": "ComplexLISTA.ipynb",
      "provenance": []
    },
    "language_info": {
      "name": "python"
    },
    "accelerator": "GPU"
  },
  "cells": [
    {
      "cell_type": "code",
      "metadata": {
        "id": "4657fdda-780b-41a6-89bc-23a7b3e896e2"
      },
      "source": [
        "from IPython.display import clear_output"
      ],
      "id": "4657fdda-780b-41a6-89bc-23a7b3e896e2",
      "execution_count": 129,
      "outputs": []
    },
    {
      "cell_type": "code",
      "metadata": {
        "id": "c4f57438-6d0e-4c21-8d0a-7a13203fd6e9"
      },
      "source": [
        "import time\n",
        "import numpy as np\n",
        "from torch.utils.data import Dataset, DataLoader\n",
        "from matplotlib import pyplot as plt\n",
        "from scipy.linalg import norm, pinv, toeplitz\n",
        "from scipy import fft\n",
        "from tqdm import tqdm, trange"
      ],
      "id": "c4f57438-6d0e-4c21-8d0a-7a13203fd6e9",
      "execution_count": 130,
      "outputs": []
    },
    {
      "cell_type": "code",
      "metadata": {
        "colab": {
          "base_uri": "https://localhost:8080/"
        },
        "id": "041d5853-5e92-4af4-86b8-c01a2d33509b",
        "outputId": "128f78b7-4c38-415b-e286-a3938f0f34bc"
      },
      "source": [
        "import torch\n",
        "from torch.nn.functional import relu, mse_loss, conv1d\n",
        "from torch.nn import Module, ReLU\n",
        "\n",
        "device = torch.device('cuda')\n",
        "print(device)"
      ],
      "id": "041d5853-5e92-4af4-86b8-c01a2d33509b",
      "execution_count": 131,
      "outputs": [
        {
          "output_type": "stream",
          "text": [
            "cuda\n"
          ],
          "name": "stdout"
        }
      ]
    },
    {
      "cell_type": "code",
      "metadata": {
        "id": "27e2df59-12ae-49fd-9ee9-af5df29300d5"
      },
      "source": [
        "class sparse_dataset(Dataset):\n",
        "    def __init__(self, N, K, Nexamples, sig=0.0, A=None):\n",
        "        self.X = np.zeros((Nexamples, N, 1))\n",
        "        for ii in range(Nexamples):\n",
        "            print(\"{}/{}\".format(ii, Nexamples))\n",
        "            self.X[ii,...] = self.generate_sparse_vector(N, K)\n",
        "        #self.X *= np.random.randn(*self.X.shape)\n",
        "        self.X = torch.from_numpy(self.X).reshape(Nexamples, N)\n",
        "        print(self.X.shape)\n",
        "        self.Y = self.X @ A.T\n",
        "        print(self.Y.shape)\n",
        "    \n",
        "    def __getitem__(self, i):\n",
        "        return (self.X[i, ...], self.Y[i, ...])\n",
        "    \n",
        "    def __len__(self, ):\n",
        "        return self.X.shape[0]\n",
        "    \n",
        "    def generate_sparse_vector(self, N, K):\n",
        "        x = np.zeros((N,1))\n",
        "        x[:K,...] = 1.\n",
        "        np.random.shuffle(x)\n",
        "        return x"
      ],
      "id": "27e2df59-12ae-49fd-9ee9-af5df29300d5",
      "execution_count": 132,
      "outputs": []
    },
    {
      "cell_type": "code",
      "metadata": {
        "id": "a37dbeb5-7183-4320-ac99-6ac6abc5f95a"
      },
      "source": [
        "# Create training data\n",
        "maxit = 10\n",
        "M = 64\n",
        "N = 512\n",
        "sig = 0.4\n",
        "epochs = 10\n",
        "batchSize = 20\n",
        "testFreq = 1\n",
        "trainingPoints = 10_000\n",
        "testingPoints = 100\n",
        "sparsityLevel = 5\n",
        "\n",
        "# Create ULA and Nested Array Matricies\n",
        "N1 = M // 2\n",
        "N2 = M - N1\n",
        "\n",
        "inner = np.arange(N1)\n",
        "outer = np.arange(1, N2+1)*(N1 + 1) - 1\n",
        "\n",
        "uniform = np.arange(M).reshape(-1,1)\n",
        "nested = np.concatenate([inner, outer]).reshape(-1, 1)\n",
        "\n",
        "fgrid = fft.fftfreq(N).reshape(-1, 1)\n",
        "\n",
        "complex_exp = lambda x : np.exp(1j* 2*np.pi * x )\n",
        "A_u = complex_exp(uniform @ fgrid.T)\n",
        "A_n = complex_exp(nested @ fgrid.T)\n",
        "\n",
        "dataset_training = sparse_dataset(N, sparsityLevel, trainingPoints, A=A_u)\n",
        "dataloader_training = DataLoader(dataset_training, \n",
        "                                 batch_size = batchSize, shuffle=True)\n",
        "dataset_testing = sparse_dataset(N, sparsityLevel, testingPoints, A=A_u)\n",
        "dataloader_testing = DataLoader(dataset_testing, \n",
        "                                 batch_size = testingPoints, shuffle=False)\n",
        "batches = int(trainingPoints/batchSize)\n",
        "print(trainingPoints/batchSize)\n",
        "training_losslist = np.zeros(epochs * batches)\n",
        "testing_losslist = np.zeros(epochs * batches)"
      ],
      "id": "a37dbeb5-7183-4320-ac99-6ac6abc5f95a",
      "execution_count": null,
      "outputs": []
    },
    {
      "cell_type": "code",
      "metadata": {
        "id": "4IHPNbBWbong"
      },
      "source": [
        "torch.save(dataset_training, \"training_data.pt\")\n",
        "torch.save(dataset_testing, \"testing_data.pt\")"
      ],
      "id": "4IHPNbBWbong",
      "execution_count": 135,
      "outputs": []
    },
    {
      "cell_type": "code",
      "metadata": {
        "id": "5ef4b98a-639c-4614-addb-75f6fb5ac7e0"
      },
      "source": [
        "class ComplexLISTA(Module):\n",
        "    \n",
        "    def __init__(self, M, N, maxit):\n",
        "        super(ComplexLISTA, self).__init__()\n",
        "    \n",
        "        # Real and imaginary Wg and We matricies \n",
        "        self.Wre = torch.nn.Parameter(torch.zeros([maxit+1, N, M]), requires_grad=True)\n",
        "        self.Wrg = torch.nn.Parameter(torch.zeros([maxit+1, N, N]), requires_grad=True)\n",
        "        self.Wie = torch.nn.Parameter(torch.zeros([maxit+1, N, M]), requires_grad=True)\n",
        "        self.Wig = torch.nn.Parameter(torch.zeros([maxit+1, N, N]), requires_grad=True)\n",
        "        \n",
        "        # alpha and lambda hyper-parameters to LASSO/ISTA\n",
        "        #self.alpha = torch.nn.Parameter(torch.zeros(maxit), requires_grad=True)\n",
        "        #self.lamda = torch.nn.Parameter(torch.zeros(maxit), requires_grad=True)\n",
        "        self.theta = torch.nn.Parameter(torch.ones(maxit+1), requires_grad=True)\n",
        "        \n",
        "        # Save the passed values\n",
        "        self.M = M\n",
        "        self.N = N\n",
        "        self.maxit = maxit\n",
        "        self.relu = ReLU()\n",
        "\n",
        "        return\n",
        "    \n",
        "    def forward(self, yr, yi, epsilon=1e-10):\n",
        "        \n",
        "        Wret = torch.transpose(self.Wre[0], 0, 1)\n",
        "        Wiet = torch.transpose(self.Wie[0], 0, 1)\n",
        "        Wrgt = torch.transpose(self.Wrg[0], 0, 1)\n",
        "        Wigt = torch.transpose(self.Wig[0], 0, 1)\n",
        "                \n",
        "        # Apply We branch to y to 0-th iteration\n",
        "        zr = torch.matmul(yr, Wret) - torch.matmul(yi, Wiet)\n",
        "        zi = torch.matmul(yi, Wret) + torch.matmul(yr, Wiet)\n",
        "        \n",
        "        # Apply soft-thresholding according to Eldar's paper.\n",
        "        xabs = torch.sqrt(torch.square(zr) + torch.square(zi) + epsilon)\n",
        "        xr = torch.divide(zr, xabs + 1) * self.relu(xabs - self.theta[0])\n",
        "        xi = torch.divide(zi, xabs + 1) * self.relu(xabs - self.theta[0])\n",
        "\n",
        "        #soft = torch.divide(self.theta[0], self.theta[0])\n",
        "        #soft = torch.divide(self.theta[0], torch.max(xabs, self.theta[0]))\n",
        "        #soft = 1 - torch.divide(self.theta[0], relu(xabs - self.theta[0]) + self.theta[0]) \n",
        "        #soft = 1 - torch.divide(self.theta[0], self.relu(xabs - self.theta[0]) + self.theta[0]) \n",
        "        #xr = torch.multiply(zr, softr)\n",
        "        #xi = torch.multiply(zi,  softi)\n",
        "        \n",
        "        \n",
        "        for t in range(1, self.maxit+1):\n",
        "            \n",
        "            Wret = torch.transpose(self.Wre[0], 0, 1)\n",
        "            Wiet = torch.transpose(self.Wie[0], 0, 1)\n",
        "            Wrgt = torch.transpose(self.Wrg[0], 0, 1)\n",
        "            Wigt = torch.transpose(self.Wig[0], 0, 1)\n",
        "        \n",
        "            # Apply We branch to y to t-th iteration\n",
        "            ar = torch.matmul(yr, Wret) - torch.matmul(yi, Wiet)\n",
        "            ai = torch.matmul(yi, Wret) + torch.matmul(yr, Wiet)\n",
        "            \n",
        "            # Apply Wg branch to x^(t) for t-th iteration\n",
        "            br = torch.matmul(xr, Wrgt) - torch.matmul(xi, Wigt)\n",
        "            bi = torch.matmul(xi, Wrgt) + torch.matmul(xr, Wigt)\n",
        "            \n",
        "            # Add the two branches                                                                           \n",
        "            zr = ar + br\n",
        "            zi = ai + bi\n",
        "            \n",
        "            # Apply soft-thresholding\n",
        "            xabs = torch.sqrt(torch.square(zr) + torch.square(zi) + epsilon)\n",
        "            #xr = zr * torch.pinverse(xabs).t() * self.relu(xabs - self.theta[t])\n",
        "            #xi = zi * torch.pinverse(xabs).t() * self.relu(xabs - self.theta[t])\n",
        "            xr = torch.divide(zr, xabs + 1) * self.relu(xabs - self.theta[t])\n",
        "            xi = torch.divide(zi, xabs + 1) * self.relu(xabs - self.theta[t])\n",
        "            #soft = torch.divide(self.theta[t], self.theta[t]) \n",
        "            #soft = torch.divide(self.theta[t], torch.max(xabs, self.theta[t]))\n",
        "            #soft = 1 - torch.divide(self.theta[t], self.relu(xabs - self.theta[t]) + self.theta[t]) \n",
        "            #soft = 1\n",
        "            #xr = torch.multiply(zr, softr)\n",
        "            #xi = torch.multiply(zi, softi)\n",
        "            \n",
        "            #print(f\"{yr[0,0] = }, {zr[0,0] = }, {xr[0,0] = }, {self.theta[0] = }, {soft[0,0] = }, {self.Wre[0,0] = }, {self.Wrg[0,0] = }\")\n",
        "      \n",
        "        return xr, xi"
      ],
      "id": "5ef4b98a-639c-4614-addb-75f6fb5ac7e0",
      "execution_count": 136,
      "outputs": []
    },
    {
      "cell_type": "code",
      "metadata": {
        "id": "QG-MZHwTnxPb"
      },
      "source": [
        "class ComplexLISTA_Toeplitz(Module):\n",
        "    \n",
        "    def __init__(self, M, N, maxit):\n",
        "        super(ComplexLISTA_Toeplitz, self).__init__()\n",
        "    \n",
        "        # Real and imaginary Wg and We matricies \n",
        "        self.Wre = torch.nn.Parameter(torch.zeros([maxit+1, N, M]), requires_grad=True)\n",
        "        self.Wie = torch.nn.Parameter(torch.zeros([maxit+1, N, M]), requires_grad=True)\n",
        "        self.hrg = torch.nn.Parameter(torch.zeros([maxit+1, 1, 1, N]), requires_grad=True) # dimension such that it works with conv1d\n",
        "        self.hig = torch.nn.Parameter(torch.zeros([maxit+1, 1, 1, N]), requires_grad=True)\n",
        "        \n",
        "        # alpha and lambda hyper-parameters to LASSO/ISTA\n",
        "        #self.alpha = torch.nn.Parameter(torch.zeros(maxit), requires_grad=True)\n",
        "        #self.lamda = torch.nn.Parameter(torch.zeros(maxit), requires_grad=True)\n",
        "        self.theta = torch.nn.Parameter(torch.ones(maxit+1), requires_grad=True)\n",
        "        \n",
        "        # Save the passed values\n",
        "        self.M = M\n",
        "        self.N = N\n",
        "        self.maxit = maxit\n",
        "        self.relu = ReLU()\n",
        "\n",
        "        return\n",
        "    \n",
        "    def forward(self, yr, yi, epsilon=1e-10):\n",
        "        \n",
        "        Wret = torch.transpose(self.Wre[0], 0, 1)\n",
        "        Wiet = torch.transpose(self.Wie[0], 0, 1)\n",
        "                \n",
        "        # Apply We branch to y to 0-th iteration\n",
        "        zr = torch.matmul(yr, Wret) - torch.matmul(yi, Wiet)\n",
        "        zi = torch.matmul(yi, Wret) + torch.matmul(yr, Wiet)\n",
        "        \n",
        "        # Apply soft-thresholding according to Eldar's paper.\n",
        "        xabs = torch.sqrt(torch.square(zr) + torch.square(zi) + epsilon)\n",
        "        xr = torch.divide(zr, xabs + 1) * self.relu(xabs - self.theta[0])\n",
        "        xi = torch.divide(zi, xabs + 1) * self.relu(xabs - self.theta[0])\n",
        "\n",
        "        #soft = torch.divide(self.theta[0], self.theta[0])\n",
        "        #soft = torch.divide(self.theta[0], torch.max(xabs, self.theta[0]))\n",
        "        #soft = 1 - torch.divide(self.theta[0], relu(xabs - self.theta[0]) + self.theta[0]) \n",
        "        #soft = 1 - torch.divide(self.theta[0], self.relu(xabs - self.theta[0]) + self.theta[0]) \n",
        "        #xr = torch.multiply(zr, softr)\n",
        "        #xi = torch.multiply(zi,  softi)\n",
        "        \n",
        "        \n",
        "        for t in range(1, self.maxit+1):\n",
        "\n",
        "            Wret = torch.transpose(self.Wre[t], 0, 1)\n",
        "            Wiet = torch.transpose(self.Wie[t], 0, 1)\n",
        "            hrgt = self.hrg[t]\n",
        "            higt = self.hig[t]\n",
        "        \n",
        "            # Apply We branch to y to t-th iteration\n",
        "            ar = torch.matmul(yr, Wret) - torch.matmul(yi, Wiet)\n",
        "            ai = torch.matmul(yi, Wret) + torch.matmul(yr, Wiet)\n",
        "            \n",
        "            # Apply hg conv1d branch to x^(t) for t-th iteration\n",
        "            br = conv1d(xr.unsqueeze(1), hrgt, padding='same') - conv1d(xi.unsqueeze(1), higt, padding='same')\n",
        "            bi = conv1d(xi.unsqueeze(1), hrgt, padding='same') + conv1d(xr.unsqueeze(1), higt, padding='same')\n",
        "            \n",
        "            # Add the two branches                                                                           \n",
        "            zr = ar + br.squeeze(1)\n",
        "            zi = ai + bi.squeeze(1)\n",
        "            \n",
        "            # Apply soft-thresholding\n",
        "            xabs = torch.sqrt(torch.square(zr) + torch.square(zi) + epsilon)\n",
        "            #xr = zr * torch.pinverse(xabs).t() * self.relu(xabs - self.theta[t])\n",
        "            #xi = zi * torch.pinverse(xabs).t() * self.relu(xabs - self.theta[t])\n",
        "            xr = torch.divide(zr, xabs + 1) * self.relu(xabs - self.theta[t])\n",
        "            xi = torch.divide(zi, xabs + 1) * self.relu(xabs - self.theta[t])\n",
        "            #soft = torch.divide(self.theta[t], self.theta[t]) \n",
        "            #soft = torch.divide(self.theta[t], torch.max(xabs, self.theta[t]))\n",
        "            #soft = 1 - torch.divide(self.theta[t], self.relu(xabs - self.theta[t]) + self.theta[t]) \n",
        "            #soft = 1\n",
        "            #xr = torch.multiply(zr, softr)\n",
        "            #xi = torch.multiply(zi, softi)\n",
        "            \n",
        "            #print(f\"{yr[0,0] = }, {zr[0,0] = }, {xr[0,0] = }, {self.theta[0] = }, {soft[0,0] = }, {self.Wre[0,0] = }, {self.Wrg[0,0] = }\")\n",
        "      \n",
        "        return xr, xi"
      ],
      "id": "QG-MZHwTnxPb",
      "execution_count": 137,
      "outputs": []
    },
    {
      "cell_type": "code",
      "metadata": {
        "id": "596150e5-6a33-4042-89c5-799485cd5850",
        "colab": {
          "base_uri": "https://localhost:8080/"
        },
        "outputId": "f09ca086-763f-4f50-80b5-2758902894a1"
      },
      "source": [
        "model = ComplexLISTA_Toeplitz(M, N, maxit)\n",
        "model.to(device)\n",
        "# for name, weights in model.named_parameters():\n",
        "#     print(name, weights)\n",
        "print(model.state_dict())"
      ],
      "id": "596150e5-6a33-4042-89c5-799485cd5850",
      "execution_count": 147,
      "outputs": [
        {
          "output_type": "stream",
          "text": [
            "OrderedDict([('Wre', tensor([[[0., 0., 0.,  ..., 0., 0., 0.],\n",
            "         [0., 0., 0.,  ..., 0., 0., 0.],\n",
            "         [0., 0., 0.,  ..., 0., 0., 0.],\n",
            "         ...,\n",
            "         [0., 0., 0.,  ..., 0., 0., 0.],\n",
            "         [0., 0., 0.,  ..., 0., 0., 0.],\n",
            "         [0., 0., 0.,  ..., 0., 0., 0.]],\n",
            "\n",
            "        [[0., 0., 0.,  ..., 0., 0., 0.],\n",
            "         [0., 0., 0.,  ..., 0., 0., 0.],\n",
            "         [0., 0., 0.,  ..., 0., 0., 0.],\n",
            "         ...,\n",
            "         [0., 0., 0.,  ..., 0., 0., 0.],\n",
            "         [0., 0., 0.,  ..., 0., 0., 0.],\n",
            "         [0., 0., 0.,  ..., 0., 0., 0.]],\n",
            "\n",
            "        [[0., 0., 0.,  ..., 0., 0., 0.],\n",
            "         [0., 0., 0.,  ..., 0., 0., 0.],\n",
            "         [0., 0., 0.,  ..., 0., 0., 0.],\n",
            "         ...,\n",
            "         [0., 0., 0.,  ..., 0., 0., 0.],\n",
            "         [0., 0., 0.,  ..., 0., 0., 0.],\n",
            "         [0., 0., 0.,  ..., 0., 0., 0.]],\n",
            "\n",
            "        ...,\n",
            "\n",
            "        [[0., 0., 0.,  ..., 0., 0., 0.],\n",
            "         [0., 0., 0.,  ..., 0., 0., 0.],\n",
            "         [0., 0., 0.,  ..., 0., 0., 0.],\n",
            "         ...,\n",
            "         [0., 0., 0.,  ..., 0., 0., 0.],\n",
            "         [0., 0., 0.,  ..., 0., 0., 0.],\n",
            "         [0., 0., 0.,  ..., 0., 0., 0.]],\n",
            "\n",
            "        [[0., 0., 0.,  ..., 0., 0., 0.],\n",
            "         [0., 0., 0.,  ..., 0., 0., 0.],\n",
            "         [0., 0., 0.,  ..., 0., 0., 0.],\n",
            "         ...,\n",
            "         [0., 0., 0.,  ..., 0., 0., 0.],\n",
            "         [0., 0., 0.,  ..., 0., 0., 0.],\n",
            "         [0., 0., 0.,  ..., 0., 0., 0.]],\n",
            "\n",
            "        [[0., 0., 0.,  ..., 0., 0., 0.],\n",
            "         [0., 0., 0.,  ..., 0., 0., 0.],\n",
            "         [0., 0., 0.,  ..., 0., 0., 0.],\n",
            "         ...,\n",
            "         [0., 0., 0.,  ..., 0., 0., 0.],\n",
            "         [0., 0., 0.,  ..., 0., 0., 0.],\n",
            "         [0., 0., 0.,  ..., 0., 0., 0.]]], device='cuda:0')), ('Wie', tensor([[[0., 0., 0.,  ..., 0., 0., 0.],\n",
            "         [0., 0., 0.,  ..., 0., 0., 0.],\n",
            "         [0., 0., 0.,  ..., 0., 0., 0.],\n",
            "         ...,\n",
            "         [0., 0., 0.,  ..., 0., 0., 0.],\n",
            "         [0., 0., 0.,  ..., 0., 0., 0.],\n",
            "         [0., 0., 0.,  ..., 0., 0., 0.]],\n",
            "\n",
            "        [[0., 0., 0.,  ..., 0., 0., 0.],\n",
            "         [0., 0., 0.,  ..., 0., 0., 0.],\n",
            "         [0., 0., 0.,  ..., 0., 0., 0.],\n",
            "         ...,\n",
            "         [0., 0., 0.,  ..., 0., 0., 0.],\n",
            "         [0., 0., 0.,  ..., 0., 0., 0.],\n",
            "         [0., 0., 0.,  ..., 0., 0., 0.]],\n",
            "\n",
            "        [[0., 0., 0.,  ..., 0., 0., 0.],\n",
            "         [0., 0., 0.,  ..., 0., 0., 0.],\n",
            "         [0., 0., 0.,  ..., 0., 0., 0.],\n",
            "         ...,\n",
            "         [0., 0., 0.,  ..., 0., 0., 0.],\n",
            "         [0., 0., 0.,  ..., 0., 0., 0.],\n",
            "         [0., 0., 0.,  ..., 0., 0., 0.]],\n",
            "\n",
            "        ...,\n",
            "\n",
            "        [[0., 0., 0.,  ..., 0., 0., 0.],\n",
            "         [0., 0., 0.,  ..., 0., 0., 0.],\n",
            "         [0., 0., 0.,  ..., 0., 0., 0.],\n",
            "         ...,\n",
            "         [0., 0., 0.,  ..., 0., 0., 0.],\n",
            "         [0., 0., 0.,  ..., 0., 0., 0.],\n",
            "         [0., 0., 0.,  ..., 0., 0., 0.]],\n",
            "\n",
            "        [[0., 0., 0.,  ..., 0., 0., 0.],\n",
            "         [0., 0., 0.,  ..., 0., 0., 0.],\n",
            "         [0., 0., 0.,  ..., 0., 0., 0.],\n",
            "         ...,\n",
            "         [0., 0., 0.,  ..., 0., 0., 0.],\n",
            "         [0., 0., 0.,  ..., 0., 0., 0.],\n",
            "         [0., 0., 0.,  ..., 0., 0., 0.]],\n",
            "\n",
            "        [[0., 0., 0.,  ..., 0., 0., 0.],\n",
            "         [0., 0., 0.,  ..., 0., 0., 0.],\n",
            "         [0., 0., 0.,  ..., 0., 0., 0.],\n",
            "         ...,\n",
            "         [0., 0., 0.,  ..., 0., 0., 0.],\n",
            "         [0., 0., 0.,  ..., 0., 0., 0.],\n",
            "         [0., 0., 0.,  ..., 0., 0., 0.]]], device='cuda:0')), ('hrg', tensor([[[[0., 0., 0.,  ..., 0., 0., 0.]]],\n",
            "\n",
            "\n",
            "        [[[0., 0., 0.,  ..., 0., 0., 0.]]],\n",
            "\n",
            "\n",
            "        [[[0., 0., 0.,  ..., 0., 0., 0.]]],\n",
            "\n",
            "\n",
            "        ...,\n",
            "\n",
            "\n",
            "        [[[0., 0., 0.,  ..., 0., 0., 0.]]],\n",
            "\n",
            "\n",
            "        [[[0., 0., 0.,  ..., 0., 0., 0.]]],\n",
            "\n",
            "\n",
            "        [[[0., 0., 0.,  ..., 0., 0., 0.]]]], device='cuda:0')), ('hig', tensor([[[[0., 0., 0.,  ..., 0., 0., 0.]]],\n",
            "\n",
            "\n",
            "        [[[0., 0., 0.,  ..., 0., 0., 0.]]],\n",
            "\n",
            "\n",
            "        [[[0., 0., 0.,  ..., 0., 0., 0.]]],\n",
            "\n",
            "\n",
            "        ...,\n",
            "\n",
            "\n",
            "        [[[0., 0., 0.,  ..., 0., 0., 0.]]],\n",
            "\n",
            "\n",
            "        [[[0., 0., 0.,  ..., 0., 0., 0.]]],\n",
            "\n",
            "\n",
            "        [[[0., 0., 0.,  ..., 0., 0., 0.]]]], device='cuda:0')), ('theta', tensor([1., 1., 1., 1., 1., 1., 1., 1., 1., 1., 1.], device='cuda:0'))])\n"
          ],
          "name": "stdout"
        }
      ]
    },
    {
      "cell_type": "code",
      "metadata": {
        "colab": {
          "base_uri": "https://localhost:8080/"
        },
        "id": "8a399404-ab10-4076-b234-6a62a1c46392",
        "outputId": "39fb0be1-0619-46bf-da54-b4c8e0605402"
      },
      "source": [
        "# Initialize Wg matrix according to Eldar\n",
        "X, Y = dataset_training[:100]\n",
        "print(X.shape, Y.shape)\n",
        "X = X.numpy().T\n",
        "Y = Y.numpy().T\n",
        "XHX = X.T.conj() @ X \n",
        "XHXinv = pinv(XHX)\n",
        "Phi = Y @ XHXinv @ X.T.conj() # conjugates omitted since X will be real\n",
        "PhiH = torch.from_numpy(Phi.conj().T)\n",
        "L = np.max(np.abs(np.linalg.eigvals(Phi.conj().T @ Phi)))\n",
        "\n",
        "#print(model.state_dict()['Wre'])\n",
        "with torch.no_grad():\n",
        "    for name, param in model.named_parameters():\n",
        "        if 'Wre' in name:\n",
        "            param.copy_(1/L * PhiH.real)\n",
        "        if 'Wie' in name:\n",
        "            param.copy_(1/L * PhiH.imag)\n",
        "        if 'theta' in name:\n",
        "            param.copy_(0.01/L * torch.ones(model.maxit+1))\n",
        "\n",
        "print(model.state_dict()['Wre'][0])\n",
        "print(model.state_dict()['Wre'][-1])"
      ],
      "id": "8a399404-ab10-4076-b234-6a62a1c46392",
      "execution_count": 148,
      "outputs": [
        {
          "output_type": "stream",
          "text": [
            "torch.Size([100, 512]) torch.Size([100, 64])\n",
            "tensor([[ 0.0000,  0.0000,  0.0000,  ...,  0.0000,  0.0000,  0.0000],\n",
            "        [ 0.0047,  0.0023,  0.0005,  ...,  0.0002,  0.0027,  0.0019],\n",
            "        [ 0.0000,  0.0000,  0.0000,  ...,  0.0000,  0.0000,  0.0000],\n",
            "        ...,\n",
            "        [ 0.0025, -0.0005,  0.0006,  ..., -0.0008, -0.0009,  0.0003],\n",
            "        [ 0.0011,  0.0022,  0.0010,  ...,  0.0007,  0.0003, -0.0009],\n",
            "        [ 0.0000,  0.0000,  0.0000,  ...,  0.0000,  0.0000,  0.0000]],\n",
            "       device='cuda:0')\n",
            "tensor([[ 0.0000,  0.0000,  0.0000,  ...,  0.0000,  0.0000,  0.0000],\n",
            "        [ 0.0047,  0.0023,  0.0005,  ...,  0.0002,  0.0027,  0.0019],\n",
            "        [ 0.0000,  0.0000,  0.0000,  ...,  0.0000,  0.0000,  0.0000],\n",
            "        ...,\n",
            "        [ 0.0025, -0.0005,  0.0006,  ..., -0.0008, -0.0009,  0.0003],\n",
            "        [ 0.0011,  0.0022,  0.0010,  ...,  0.0007,  0.0003, -0.0009],\n",
            "        [ 0.0000,  0.0000,  0.0000,  ...,  0.0000,  0.0000,  0.0000]],\n",
            "       device='cuda:0')\n"
          ],
          "name": "stdout"
        }
      ]
    },
    {
      "cell_type": "code",
      "metadata": {
        "colab": {
          "base_uri": "https://localhost:8080/"
        },
        "id": "6efcd2d6-5443-46eb-9496-c365d6143d78",
        "outputId": "9edf4014-3670-45ae-de5d-4ebc7fe165aa"
      },
      "source": [
        "optim = torch.optim.Adam(model.parameters(), lr=1e-4)\n",
        "obj = torch.nn.MSELoss()\n",
        "t = trange(epochs)\n",
        "for e in t:\n",
        "    for i, data in enumerate(dataloader_training):\n",
        "\n",
        "        idx = e * batches + i\n",
        "        x, y = data\n",
        "        \n",
        "        # Split data to real and complex\n",
        "        xr = x.to(torch.float32).to(device)\n",
        "        xi = torch.zeros_like(xr).to(torch.float32).to(device)\n",
        "        \n",
        "        yr = y.real.to(torch.float32).to(device)\n",
        "        yi = y.imag.to(torch.float32).to(device)\n",
        "        \n",
        "        # Send through model\n",
        "        xpredr, xpredi = model(yr, yi)\n",
        "        \n",
        "        loss = obj(xpredr, xr) + obj(xpredi, xi)\n",
        "\n",
        "        with torch.no_grad():\n",
        "            training_losslist[idx] = loss\n",
        "\n",
        "        loss.backward()    \n",
        "        optim.step()\n",
        "        optim.zero_grad()\n",
        "        \n",
        "        if testFreq and idx % testFreq == 0:\n",
        "            for k, test_data in enumerate(dataloader_testing):\n",
        "                \n",
        "                x, y = test_data\n",
        "                \n",
        "                xr = x.to(torch.float32).to(device)\n",
        "                xi = torch.zeros_like(xr).to(torch.float32).to(device)\n",
        "                \n",
        "                yr = y.real.to(torch.float32).to(device)\n",
        "                yi = y.imag.to(torch.float32).to(device)\n",
        "                \n",
        "                xpredr, xpredi = model(yr, yi)\n",
        "                xpredr = xpredr.detach().cpu()\n",
        "                xpredi = xpredi.detach().cpu()\n",
        "\n",
        "                testing_losslist[idx] += torch.mean((xpredr.cpu() - xr.cpu())**2) + torch.mean((xpredi.cpu() - xi.cpu())**2)\n",
        "\n",
        "        t.set_description(\"Batch: {}/{}\\t Training Loss: {}\\t Validation Loss: {}\".format(i, len(dataloader_training), training_losslist[idx], testing_losslist[idx]), refresh=True)\n",
        "\n",
        "        #clear_output(wait=True)\n",
        "        #print(\"Epoch: {}\\t Batch: {}\\t Training Loss: {}\\t Validation Loss: {}\".format(e, i, training_losslist[idx], testing_losslist[idx]))\n",
        "\n",
        "        #print(\"Epoch: {}\\t Batch: {}\\t Training Loss: {}\\t\".format(e, i, training_losslist[idx]), end='\\r')"
      ],
      "id": "6efcd2d6-5443-46eb-9496-c365d6143d78",
      "execution_count": 150,
      "outputs": [
        {
          "output_type": "stream",
          "text": [
            "Batch: 499/500\t Training Loss: 0.0013289854396134615\t Validation Loss: 0.0019555105827748775: 100%|██████████| 10/10 [09:44<00:00, 58.42s/it]\n"
          ],
          "name": "stderr"
        }
      ]
    },
    {
      "cell_type": "code",
      "metadata": {
        "colab": {
          "base_uri": "https://localhost:8080/",
          "height": 283
        },
        "id": "17f3d02c-87d5-48db-93d9-b9f700d81b47",
        "outputId": "b47ce02f-fb0d-404b-f44b-5b50574b0c46"
      },
      "source": [
        "print(training_losslist[0])\n",
        "plt.plot(training_losslist)\n",
        "plt.plot(testing_losslist)\n",
        "torch.save(model.state_dict(), \"model_weights.pt\")"
      ],
      "id": "17f3d02c-87d5-48db-93d9-b9f700d81b47",
      "execution_count": 151,
      "outputs": [
        {
          "output_type": "stream",
          "text": [
            "0.00970681756734848\n"
          ],
          "name": "stdout"
        },
        {
          "output_type": "display_data",
          "data": {
            "image/png": "[encoded data removed]",
            "text/plain": [
              "<Figure size 432x288 with 1 Axes>"
            ]
          },
          "metadata": {
            "needs_background": "light"
          }
        }
      ]
    },
    {
      "cell_type": "code",
      "metadata": {
        "id": "4eaafb91-8510-4f26-8241-7b37d6f2febc"
      },
      "source": [
        "# ''' Manually Set Values for Normal ISTA '''\n",
        "# model_ista = ComplexLISTA(M, N, 1)\n",
        "# L = np.max(np.abs(np.linalg.eigvals(A_u.conj().T @ A_u)))\n",
        "# lambb = 1\n",
        "# P = A_u.conj().T @ A_u\n",
        "# We = 1/L * A_u.conj().T\n",
        "# Wg = (np.eye(P.shape[0]) - 1/L * P)\n",
        "# with torch.no_grad():\n",
        "#     for name, param in model_ista.named_parameters():\n",
        "#         if 'Wre' in name:\n",
        "#             param.copy_(1/L * torch.from_numpy(We.real))\n",
        "#         if 'Wie' in name:\n",
        "#             param.copy_(1/L * torch.from_numpy(We.imag))\n",
        "#         if 'Wrg' in name:\n",
        "#             param.copy_(1/L * torch.from_numpy(Wg.real))\n",
        "#         if 'Wig' in name:\n",
        "#             param.copy_(1/L * torch.from_numpy(Wg.imag))\n",
        "#         if 'theta' in name:\n",
        "#             param.copy_(lambb/L * torch.ones(model_ista.maxit+1))\n",
        "            \n",
        "# print(model_ista.state_dict())\n"
      ],
      "id": "4eaafb91-8510-4f26-8241-7b37d6f2febc",
      "execution_count": 152,
      "outputs": []
    },
    {
      "cell_type": "code",
      "metadata": {
        "id": "cf067838-97c3-44d5-976e-7ab7bf006761"
      },
      "source": [
        "x_test, y_test = dataset_testing[2]\n",
        "\n",
        "yr = y_test.real.to(torch.float32).to(device)\n",
        "yi = y_test.imag.to(torch.float32).to(device)\n",
        "\n",
        "yr = yr.unsqueeze(0)\n",
        "yi = yi.unsqueeze(0)\n",
        "\n",
        "xpredr, xpredi = model(yr, yi)\n",
        "# xistar, xistai = model_ista(yr, yi)\n",
        "\n",
        "x_test = x_test.numpy()\n",
        "x_pred = np.zeros_like(x_test, dtype=complex)\n",
        "x_pred.real = xpredr.detach().cpu().numpy()\n",
        "x_pred.imag = xpredi.detach().cpu().numpy()\n",
        "\n",
        "# x_ista = np.zeros_like(x_test, dtype=complex)\n",
        "# x_ista.real = xistar.detach().numpy()\n",
        "# x_ista.imag = xistai.detach().numpy()\n",
        "\n",
        "S_test = np.abs(x_test)\n",
        "S_pred = np.abs(x_pred)\n",
        "# S_ista = np.abs(x_ista)\n",
        "\n",
        "S_test /= S_test.max()\n",
        "S_pred /= S_pred.max()\n",
        "# S_ista /= S_ista.max()"
      ],
      "id": "cf067838-97c3-44d5-976e-7ab7bf006761",
      "execution_count": 162,
      "outputs": []
    },
    {
      "cell_type": "code",
      "metadata": {
        "colab": {
          "base_uri": "https://localhost:8080/",
          "height": 483
        },
        "id": "5cbbbd16-0f57-4f1d-af7f-bec420ba9a73",
        "outputId": "1815d34e-9c5b-47ee-ec86-badb87d3643a"
      },
      "source": [
        "# Plot ULA\n",
        "plt.rcParams.update({'font.size': 16})\n",
        "fig, ax = plt.subplots(figsize=(10, 6))\n",
        "\n",
        "ax.plot(fft.fftshift(fft.fftfreq(N)), fft.fftshift(S_pred), linewidth=2, label='LISTA')\n",
        "#ax.plot(fft.fftshift(fft.fftfreq(N)), fft.fftshift(S_ista), linewidth=2, label='ISTA')\n",
        "ax.stem(fft.fftshift(fft.fftfreq(N)), fft.fftshift(S_test), 'k', markerfmt='ko', linefmt='k--', label='True',  basefmt=\" \")\n",
        "y1, y2 = ax.get_ylim()\n",
        "#ax.vlines(fft.fftshift(fft.fftfreq(N)[np.nonzero(S_test)]), linestyle='--', ymin=0, ymax=y2, color='k', label='True')\n",
        "ax.set_ylim(0.001, y2)\n",
        "ax.set_xlabel('Frequency')\n",
        "ax.set_title('')\n",
        "ax.grid(color='#99AABB', linestyle=':')\n",
        "ax.set_facecolor('#CCDDEE')\n",
        "\n",
        "ax.legend()\n",
        "plt.tight_layout()\n",
        "plt.show()"
      ],
      "id": "5cbbbd16-0f57-4f1d-af7f-bec420ba9a73",
      "execution_count": 163,
      "outputs": [
        {
          "output_type": "stream",
          "text": [
            "/usr/local/lib/python3.7/dist-packages/ipykernel_launcher.py:7: UserWarning: In Matplotlib 3.3 individual lines on a stem plot will be added as a LineCollection instead of individual lines. This significantly improves the performance of a stem plot. To remove this warning and switch to the new behaviour, set the \"use_line_collection\" keyword argument to True.\n",
            "  import sys\n"
          ],
          "name": "stderr"
        },
        {
          "output_type": "display_data",
          "data": {
            "image/png": "[encoded data removed]",
            "text/plain": [
              "<Figure size 720x432 with 1 Axes>"
            ]
          },
          "metadata": {
            "needs_background": "light"
          }
        }
      ]
    },
    {
      "cell_type": "code",
      "metadata": {
        "id": "77a8a8b5-5267-4d89-b153-83fe5965e078",
        "colab": {
          "base_uri": "https://localhost:8080/"
        },
        "outputId": "221674fd-6b31-4676-8621-047ae542daf3"
      },
      "source": [
        "Nn = 103\n",
        "abcd = torch.arange(Nn).reshape(1, 1, -1)\n",
        "efgh = torch.arange(Nn).reshape(1, 1, -1)\n",
        "xxxx = conv1d(abcd, efgh, padding=Nn//2)\n",
        "print(xxxx.shape)"
      ],
      "id": "77a8a8b5-5267-4d89-b153-83fe5965e078",
      "execution_count": 21,
      "outputs": [
        {
          "output_type": "stream",
          "text": [
            "torch.Size([1, 1, 103])\n"
          ],
          "name": "stdout"
        }
      ]
    },
    {
      "cell_type": "code",
      "metadata": {
        "colab": {
          "base_uri": "https://localhost:8080/"
        },
        "id": "nxILziY5tx_U",
        "outputId": "d14c4f57-f5af-44af-b625-4ad5f67ff2dd"
      },
      "source": [
        "wxyz = np.array([1, 2, 3])\n",
        "stuv = np.array([4, 5, 6])\n",
        "T = toeplitz(np.hstack([np.flip(stuv[:-1]), 0]), r=np.hstack([stuv[1:], 0]))\n",
        "print(stuv[1:])\n",
        "print(stuv[:-1])\n",
        "print(T @ wxyz)\n",
        "print(T)"
      ],
      "id": "nxILziY5tx_U",
      "execution_count": 94,
      "outputs": [
        {
          "output_type": "stream",
          "text": [
            "[5 6]\n",
            "[4 5]\n",
            "[17 32 23]\n",
            "[[5 6 0]\n",
            " [4 5 6]\n",
            " [0 4 5]]\n"
          ],
          "name": "stdout"
        }
      ]
    },
    {
      "cell_type": "code",
      "metadata": {
        "colab": {
          "base_uri": "https://localhost:8080/"
        },
        "id": "gJTrQ05F01pw",
        "outputId": "50433764-663d-4c47-e1c2-3213fd929bb2"
      },
      "source": [
        "ijkl = torch.randn(100, 2).unsqueeze(1)\n",
        "print(ijkl.shape)"
      ],
      "id": "gJTrQ05F01pw",
      "execution_count": 98,
      "outputs": [
        {
          "output_type": "stream",
          "text": [
            "torch.Size([100, 1, 2])\n"
          ],
          "name": "stdout"
        }
      ]
    },
    {
      "cell_type": "code",
      "metadata": {
        "id": "G6-YzUCTvHKZ"
      },
      "source": [
        ""
      ],
      "id": "G6-YzUCTvHKZ",
      "execution_count": null,
      "outputs": []
    }
  ]
}